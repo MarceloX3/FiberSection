{
 "cells": [
  {
   "cell_type": "code",
   "execution_count": 3,
   "id": "0ba32d63-26fb-4661-a51b-68ceaa7b0daa",
   "metadata": {},
   "outputs": [
    {
     "data": {
      "application/vnd.jupyter.widget-view+json": {
       "model_id": "7e30429f66e44efe80e3f8fc14b69f78",
       "version_major": 2,
       "version_minor": 0
      },
      "text/plain": [
       "VBox(children=(HBox(children=(VBox(children=(HBox(children=(HTML(value='<b>Fiber Section - Openseespy</b>', la…"
      ]
     },
     "metadata": {},
     "output_type": "display_data"
    }
   ],
   "source": [
    "# Note: Close Jupyter Notebook using: File >> Shut Down.\n",
    "%run S01_GUI01_A01_Fiber_Section.py"
   ]
  },
  {
   "cell_type": "code",
   "execution_count": null,
   "id": "cfe07e8e-c754-4b90-a538-982febc5274b",
   "metadata": {},
   "outputs": [],
   "source": []
  }
 ],
 "metadata": {
  "kernelspec": {
   "display_name": "Python 3 (ipykernel)",
   "language": "python",
   "name": "python3"
  },
  "language_info": {
   "codemirror_mode": {
    "name": "ipython",
    "version": 3
   },
   "file_extension": ".py",
   "mimetype": "text/x-python",
   "name": "python",
   "nbconvert_exporter": "python",
   "pygments_lexer": "ipython3",
   "version": "3.11.10"
  }
 },
 "nbformat": 4,
 "nbformat_minor": 5
}
